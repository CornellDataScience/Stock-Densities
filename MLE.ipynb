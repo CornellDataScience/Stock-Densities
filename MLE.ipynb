{
 "cells": [
  {
   "cell_type": "code",
   "execution_count": 54,
   "metadata": {},
   "outputs": [],
   "source": [
    "import numpy as np\n",
    "import pandas as pd\n",
    "import matplotlib.pyplot as plt\n",
    "from scipy.stats import norm, t\n",
    "from scipy.optimize import minimize\n",
    "from datetime import timedelta"
   ]
  },
  {
   "cell_type": "code",
   "execution_count": 57,
   "metadata": {},
   "outputs": [
    {
     "name": "stderr",
     "output_type": "stream",
     "text": [
      "/Applications/anaconda3/lib/python3.7/site-packages/ipykernel_launcher.py:3: SettingWithCopyWarning: \n",
      "A value is trying to be set on a copy of a slice from a DataFrame\n",
      "\n",
      "See the caveats in the documentation: https://pandas.pydata.org/pandas-docs/stable/user_guide/indexing.html#returning-a-view-versus-a-copy\n",
      "  This is separate from the ipykernel package so we can avoid doing imports until\n",
      "/Applications/anaconda3/lib/python3.7/site-packages/ipykernel_launcher.py:4: SettingWithCopyWarning: \n",
      "A value is trying to be set on a copy of a slice from a DataFrame\n",
      "\n",
      "See the caveats in the documentation: https://pandas.pydata.org/pandas-docs/stable/user_guide/indexing.html#returning-a-view-versus-a-copy\n",
      "  after removing the cwd from sys.path.\n"
     ]
    },
    {
     "data": {
      "text/html": [
       "<div>\n",
       "<style scoped>\n",
       "    .dataframe tbody tr th:only-of-type {\n",
       "        vertical-align: middle;\n",
       "    }\n",
       "\n",
       "    .dataframe tbody tr th {\n",
       "        vertical-align: top;\n",
       "    }\n",
       "\n",
       "    .dataframe thead th {\n",
       "        text-align: right;\n",
       "    }\n",
       "</style>\n",
       "<table border=\"1\" class=\"dataframe\">\n",
       "  <thead>\n",
       "    <tr style=\"text-align: right;\">\n",
       "      <th></th>\n",
       "      <th>Dates</th>\n",
       "      <th>Close</th>\n",
       "      <th>Volume</th>\n",
       "    </tr>\n",
       "  </thead>\n",
       "  <tbody>\n",
       "    <tr>\n",
       "      <th>0</th>\n",
       "      <td>2021-12-01 09:30:00</td>\n",
       "      <td>461.27</td>\n",
       "      <td>818361</td>\n",
       "    </tr>\n",
       "    <tr>\n",
       "      <th>1</th>\n",
       "      <td>2021-12-01 09:31:00</td>\n",
       "      <td>460.81</td>\n",
       "      <td>348832</td>\n",
       "    </tr>\n",
       "    <tr>\n",
       "      <th>2</th>\n",
       "      <td>2021-12-01 09:32:00</td>\n",
       "      <td>460.69</td>\n",
       "      <td>331253</td>\n",
       "    </tr>\n",
       "    <tr>\n",
       "      <th>3</th>\n",
       "      <td>2021-12-01 09:33:00</td>\n",
       "      <td>460.76</td>\n",
       "      <td>271748</td>\n",
       "    </tr>\n",
       "    <tr>\n",
       "      <th>4</th>\n",
       "      <td>2021-12-01 09:34:00</td>\n",
       "      <td>460.29</td>\n",
       "      <td>255663</td>\n",
       "    </tr>\n",
       "    <tr>\n",
       "      <th>...</th>\n",
       "      <td>...</td>\n",
       "      <td>...</td>\n",
       "      <td>...</td>\n",
       "    </tr>\n",
       "    <tr>\n",
       "      <th>27061</th>\n",
       "      <td>2022-03-10 15:57:00</td>\n",
       "      <td>425.77</td>\n",
       "      <td>553063</td>\n",
       "    </tr>\n",
       "    <tr>\n",
       "      <th>27062</th>\n",
       "      <td>2022-03-10 15:58:00</td>\n",
       "      <td>425.86</td>\n",
       "      <td>839584</td>\n",
       "    </tr>\n",
       "    <tr>\n",
       "      <th>27063</th>\n",
       "      <td>2022-03-10 15:59:00</td>\n",
       "      <td>425.38</td>\n",
       "      <td>3284861</td>\n",
       "    </tr>\n",
       "    <tr>\n",
       "      <th>27064</th>\n",
       "      <td>2022-03-10 16:09:00</td>\n",
       "      <td>425.48</td>\n",
       "      <td>0</td>\n",
       "    </tr>\n",
       "    <tr>\n",
       "      <th>27065</th>\n",
       "      <td>2022-03-10 16:14:00</td>\n",
       "      <td>425.48</td>\n",
       "      <td>0</td>\n",
       "    </tr>\n",
       "  </tbody>\n",
       "</table>\n",
       "<p>27066 rows × 3 columns</p>\n",
       "</div>"
      ],
      "text/plain": [
       "                     Dates   Close   Volume\n",
       "0      2021-12-01 09:30:00  461.27   818361\n",
       "1      2021-12-01 09:31:00  460.81   348832\n",
       "2      2021-12-01 09:32:00  460.69   331253\n",
       "3      2021-12-01 09:33:00  460.76   271748\n",
       "4      2021-12-01 09:34:00  460.29   255663\n",
       "...                    ...     ...      ...\n",
       "27061  2022-03-10 15:57:00  425.77   553063\n",
       "27062  2022-03-10 15:58:00  425.86   839584\n",
       "27063  2022-03-10 15:59:00  425.38  3284861\n",
       "27064  2022-03-10 16:09:00  425.48        0\n",
       "27065  2022-03-10 16:14:00  425.48        0\n",
       "\n",
       "[27066 rows x 3 columns]"
      ]
     },
     "execution_count": 57,
     "metadata": {},
     "output_type": "execute_result"
    }
   ],
   "source": [
    "df = pd.read_csv(\"data/SPY_minute.csv\",skiprows=1)\n",
    "datetimes = pd.to_datetime(df.Dates[1:], format='%m/%d/%y %H:%M')\n",
    "df[\"Dates\"][1:] = datetimes\n",
    "df[\"Dates\"][0] = df[\"Dates\"][1] - timedelta(minutes=1)\n",
    "df"
   ]
  },
  {
   "cell_type": "code",
   "execution_count": null,
   "metadata": {},
   "outputs": [],
   "source": [
    "log_ret = np.log(prices[1:]) - np.log(prices[:-1])\n",
    "plt.hist(log_ret, bins=100)\n",
    "plt.show()\n",
    "plt.hist(log_ret, bins=200)\n",
    "plt.xlim((-0.005, 0.005))\n",
    "plt.show()"
   ]
  },
  {
   "cell_type": "code",
   "execution_count": 16,
   "metadata": {},
   "outputs": [
    {
     "data": {
      "text/plain": [
       " final_simplex: (array([[-2.93887905e-06,  6.73690051e-04],\n",
       "       [-3.01286250e-06,  6.73727054e-04],\n",
       "       [-2.99754859e-06,  6.73640718e-04]]), array([-159245.24510579, -159245.24504444, -159245.2450379 ]))\n",
       "           fun: -159245.24510578965\n",
       "       message: 'Optimization terminated successfully.'\n",
       "          nfev: 118\n",
       "           nit: 61\n",
       "        status: 0\n",
       "       success: True\n",
       "             x: array([-2.93887905e-06,  6.73690051e-04])"
      ]
     },
     "execution_count": 16,
     "metadata": {},
     "output_type": "execute_result"
    }
   ],
   "source": [
    "x = np.random.normal(loc=2, scale=3, size=1000)\n",
    "x_t = t.rvs(df=20, loc=2, scale=3, size=1000) \n",
    "\n",
    "def get_neg_log_lik(data, dist, kw):\n",
    "    return lambda params: -1 * np.sum(dist.logpdf(data, **{kw[i] : params[i] for i in range(len(params))}))\n",
    "\n",
    "def optim(log_lik, x0):\n",
    "    return minimize(neg_log_lik, x0,method='Nelder-Mead')\n",
    "\n",
    "neg_log_lik = get_neg_log_lik(log_ret, norm, ['loc', 'scale'])\n",
    "optim(neg_log_lik, [0, 1])"
   ]
  },
  {
   "cell_type": "code",
   "execution_count": 42,
   "metadata": {},
   "outputs": [
    {
     "data": {
      "text/plain": [
       "{'loc': 1, 'scale': 3}"
      ]
     },
     "execution_count": 42,
     "metadata": {},
     "output_type": "execute_result"
    }
   ],
   "source": [
    "generated_data = np.random.normal(loc=2, scale=3, size=100)\n",
    "kw = ['loc', 'scale']\n",
    "params = [1,3]\n",
    "dict(zip(kw,params))"
   ]
  },
  {
   "cell_type": "code",
   "execution_count": 20,
   "metadata": {},
   "outputs": [
    {
     "data": {
      "text/plain": [
       "RangeIndex(start=0, stop=27066, step=1)"
      ]
     },
     "execution_count": 20,
     "metadata": {},
     "output_type": "execute_result"
    }
   ],
   "source": []
  },
  {
   "cell_type": "code",
   "execution_count": null,
   "metadata": {},
   "outputs": [],
   "source": []
  }
 ],
 "metadata": {
  "interpreter": {
   "hash": "cd78fef2128015050713e82ca51c6520b11aee7c9ee8df750520bbbc7384cbaa"
  },
  "kernelspec": {
   "display_name": "Python 3.7.9 ('base')",
   "language": "python",
   "name": "python3"
  },
  "language_info": {
   "codemirror_mode": {
    "name": "ipython",
    "version": 3
   },
   "file_extension": ".py",
   "mimetype": "text/x-python",
   "name": "python",
   "nbconvert_exporter": "python",
   "pygments_lexer": "ipython3",
   "version": "3.7.9"
  },
  "orig_nbformat": 4
 },
 "nbformat": 4,
 "nbformat_minor": 2
}
