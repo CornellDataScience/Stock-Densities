{
 "cells": [
  {
   "cell_type": "code",
   "execution_count": 21,
   "source": [
    "import numpy as np\n",
    "from scipy.stats import norm, t\n",
    "from scipy.optimize import minimize"
   ],
   "outputs": [],
   "metadata": {}
  },
  {
   "cell_type": "code",
<<<<<<< HEAD
   "execution_count": 13,
   "metadata": {},
   "outputs": [
    {
     "data": {
      "text/plain": [
       "      fun: 2546.5099424085793\n",
       " hess_inv: array([[2.17528693e+02, 5.31483414e-01, 6.34771438e+00],\n",
       "       [5.31483414e-01, 1.06235637e-02, 1.47232670e-02],\n",
       "       [6.34771438e+00, 1.47232670e-02, 1.87108096e-01]])\n",
       "      jac: array([ 6.10351562e-05,  3.05175781e-05, -1.22070312e-04])\n",
       "  message: 'Desired error not necessarily achieved due to precision loss.'\n",
       "     nfev: 300\n",
       "      nit: 19\n",
       "     njev: 72\n",
       "   status: 2\n",
       "  success: False\n",
       "        x: array([11.39629687,  2.07470808,  2.82361237])"
      ]
     },
     "execution_count": 13,
     "metadata": {},
     "output_type": "execute_result"
    }
   ],
=======
   "execution_count": 22,
>>>>>>> 08b7ea7c48a391c8ea57c149eef0506bb816a3dd
   "source": [
    "x = np.random.normal(loc=2, scale=3, size=1000)\n",
    "x_t = t.rvs(df=20, loc=2, scale=3, size=1000) \n",
    "\n",
    "def get_neg_log_lik(data, dist, kw):\n",
    "    return lambda params: -1 * np.sum(dist.logpdf(data, **{kw[i] : params[i] for i in range(len(params))}))\n",
    "\n",
<<<<<<< HEAD
    "def optim(log_lik, x0, opt='BFGS'):\n",
    "    # SLSQP\n",
    "    return minimize(neg_log_lik, x0,method=opt, options={\"maxiter\":10_000*len(x0)})\n",
=======
    "def optim(log_lik, x0):\n",
    "    return minimize(neg_log_lik, x0,method='Nelder-Mead', options={\"maxiter\":10_000*len(x0)}) #BFGS\n",
>>>>>>> 08b7ea7c48a391c8ea57c149eef0506bb816a3dd
    "\n",
    "neg_log_lik = get_neg_log_lik(x_t, t, ['df', 'loc', 'scale'])\n",
    "optim(neg_log_lik, [3, 1, 1])\n"
   ],
   "outputs": [
    {
     "output_type": "execute_result",
     "data": {
      "text/plain": [
       " final_simplex: (array([[104.52270587,   2.02532622,   3.01755005],\n",
       "       [104.52272801,   2.02532621,   3.01755006],\n",
       "       [104.52272669,   2.02532622,   3.01755004],\n",
       "       [104.52276392,   2.02532621,   3.01755006]]), array([2532.9738803, 2532.9738803, 2532.9738803, 2532.9738803]))\n",
       "           fun: 2532.9738802977454\n",
       "       message: 'Optimization terminated successfully.'\n",
       "          nfev: 278\n",
       "           nit: 150\n",
       "        status: 0\n",
       "       success: True\n",
       "             x: array([104.52270587,   2.02532622,   3.01755005])"
      ]
     },
     "metadata": {},
     "execution_count": 22
    }
   ],
   "metadata": {}
  },
  {
   "cell_type": "code",
   "execution_count": 23,
   "source": [
    "generated_data = np.random.normal(loc=2, scale=3, size=100)\n",
    "kw = ['loc', 'scale']\n",
    "params = [1,3]\n",
    "dict(zip(kw,params))"
   ],
   "outputs": [
    {
     "output_type": "execute_result",
     "data": {
      "text/plain": [
       "{'loc': 1, 'scale': 3}"
      ]
     },
     "metadata": {},
     "execution_count": 23
    }
   ],
   "metadata": {}
  },
  {
   "cell_type": "markdown",
   "source": [
    "# Using Actual Data"
   ],
   "metadata": {}
  },
  {
   "cell_type": "code",
<<<<<<< HEAD
   "execution_count": 19,
   "metadata": {},
   "outputs": [],
   "source": [
    "import pandas as pd\n",
    "import matplotlib.pyplot as plt\n",
    "import matplotlib.mlab as mlab"
   ]
=======
   "execution_count": 24,
   "source": [
    "import pandas as pd\n",
    "import matplotlib.pyplot as plt"
   ],
   "outputs": [],
   "metadata": {}
>>>>>>> 08b7ea7c48a391c8ea57c149eef0506bb816a3dd
  },
  {
   "cell_type": "code",
   "execution_count": 25,
   "source": [
    "SPY_2DAY = pd.read_csv('E-mini S&P 500 minute data (2 days).csv')"
   ],
   "outputs": [],
   "metadata": {}
  },
  {
   "cell_type": "code",
   "execution_count": 26,
   "source": [
    "def load_data():\n",
    "    df = pd.read_csv(\n",
    "        'E-mini S&P 500 minute data (2 days).csv', header=1)\n",
    "    cols = [\"Date Time\", \"Close\"]\n",
    "    data = df[cols]\n",
    "    data = data.set_axis([\"timestamp\", \"close\"], axis=1)\n",
    "    return data\n",
    "\n",
    "\n",
    "def deltas():\n",
    "    df = load_data()\n",
    "    df[\"log\"] = np.log(df[\"close\"].astype(float))\n",
    "    df[\"deltas\"] = df[\"log\"].diff()\n",
    "    df.dropna(inplace=True)\n",
    "    final_data = df[[\"timestamp\", \"close\", \"deltas\"]]\n",
    "    #final_data = final_data.set_axis([\"timestamp\", \"close\", \"deltas\"], axis=1)\n",
    "    return final_data"
   ],
   "outputs": [],
   "metadata": {}
  },
  {
   "cell_type": "code",
   "execution_count": 27,
   "source": [
    "data = deltas()\n",
    "feb_09 = data[(data['timestamp'] >= '2022-02-09') & (data['timestamp'] < '2022-02-10')]"
   ],
   "outputs": [],
   "metadata": {}
  },
  {
   "cell_type": "code",
   "execution_count": 28,
   "source": [
    "feb_09['deltas']"
   ],
   "outputs": [
    {
     "output_type": "execute_result",
     "data": {
      "text/plain": [
       "1      0.000165\n",
       "2     -0.000110\n",
       "3      0.000055\n",
       "4     -0.000110\n",
       "5     -0.000110\n",
       "         ...   \n",
       "941    0.000219\n",
       "942    0.000109\n",
       "943    0.000109\n",
       "944    0.000438\n",
       "945    0.000109\n",
       "Name: deltas, Length: 945, dtype: float64"
      ]
     },
     "metadata": {},
     "execution_count": 28
    }
   ],
   "metadata": {}
  },
  {
   "cell_type": "code",
   "execution_count": 29,
   "source": [
    "plt.hist(feb_09['deltas'], bins=20)"
   ],
   "outputs": [
    {
     "output_type": "execute_result",
     "data": {
      "text/plain": [
       "(array([  2.,   0.,   6.,   3.,   3.,   6.,  22.,  35.,  95., 220., 284.,\n",
       "        144.,  61.,  28.,  18.,   7.,   5.,   1.,   1.,   4.]),\n",
       " array([-1.09487064e-03, -9.85506173e-04, -8.76141704e-04, -7.66777236e-04,\n",
       "        -6.57412768e-04, -5.48048300e-04, -4.38683832e-04, -3.29319363e-04,\n",
       "        -2.19954895e-04, -1.10590427e-04, -1.22595874e-06,  1.08138509e-04,\n",
       "         2.17502978e-04,  3.26867446e-04,  4.36231914e-04,  5.45596382e-04,\n",
       "         6.54960851e-04,  7.64325319e-04,  8.73689787e-04,  9.83054255e-04,\n",
       "         1.09241872e-03]),\n",
       " <BarContainer object of 20 artists>)"
      ]
     },
     "metadata": {},
     "execution_count": 29
    },
    {
     "output_type": "display_data",
     "data": {
      "text/plain": [
       "<Figure size 432x288 with 1 Axes>"
      ],
      "image/svg+xml": "<?xml version=\"1.0\" encoding=\"utf-8\" standalone=\"no\"?>\n<!DOCTYPE svg PUBLIC \"-//W3C//DTD SVG 1.1//EN\"\n  \"http://www.w3.org/Graphics/SVG/1.1/DTD/svg11.dtd\">\n<!-- Created with matplotlib (https://matplotlib.org/) -->\n<svg height=\"248.518125pt\" version=\"1.1\" viewBox=\"0 0 375.2875 248.518125\" width=\"375.2875pt\" xmlns=\"http://www.w3.org/2000/svg\" xmlns:xlink=\"http://www.w3.org/1999/xlink\">\n <metadata>\n  <rdf:RDF xmlns:cc=\"http://creativecommons.org/ns#\" xmlns:dc=\"http://purl.org/dc/elements/1.1/\" xmlns:rdf=\"http://www.w3.org/1999/02/22-rdf-syntax-ns#\">\n   <cc:Work>\n    <dc:type rdf:resource=\"http://purl.org/dc/dcmitype/StillImage\"/>\n    <dc:date>2022-03-10T17:56:11.445631</dc:date>\n    <dc:format>image/svg+xml</dc:format>\n    <dc:creator>\n     <cc:Agent>\n      <dc:title>Matplotlib v3.3.2, https://matplotlib.org/</dc:title>\n     </cc:Agent>\n    </dc:creator>\n   </cc:Work>\n  </rdf:RDF>\n </metadata>\n <defs>\n  <style type=\"text/css\">*{stroke-linecap:butt;stroke-linejoin:round;}</style>\n </defs>\n <g id=\"figure_1\">\n  <g id=\"patch_1\">\n   <path d=\"M 0 248.518125 \nL 375.2875 248.518125 \nL 375.2875 0 \nL 0 0 \nz\n\" style=\"fill:none;\"/>\n  </g>\n  <g id=\"axes_1\">\n   <g id=\"patch_2\">\n    <path d=\"M 33.2875 224.64 \nL 368.0875 224.64 \nL 368.0875 7.2 \nL 33.2875 7.2 \nz\n\" style=\"fill:#ffffff;\"/>\n   </g>\n   <g id=\"patch_3\">\n    <path clip-path=\"url(#p49fca96d19)\" d=\"M 48.505682 224.64 \nL 63.723864 224.64 \nL 63.723864 223.18165 \nL 48.505682 223.18165 \nz\n\" style=\"fill:#1f77b4;\"/>\n   </g>\n   <g id=\"patch_4\">\n    <path clip-path=\"url(#p49fca96d19)\" d=\"M 63.723864 224.64 \nL 78.942045 224.64 \nL 78.942045 224.64 \nL 63.723864 224.64 \nz\n\" style=\"fill:#1f77b4;\"/>\n   </g>\n   <g id=\"patch_5\">\n    <path clip-path=\"url(#p49fca96d19)\" d=\"M 78.942045 224.64 \nL 94.160227 224.64 \nL 94.160227 220.26495 \nL 78.942045 220.26495 \nz\n\" style=\"fill:#1f77b4;\"/>\n   </g>\n   <g id=\"patch_6\">\n    <path clip-path=\"url(#p49fca96d19)\" d=\"M 94.160227 224.64 \nL 109.378409 224.64 \nL 109.378409 222.452475 \nL 94.160227 222.452475 \nz\n\" style=\"fill:#1f77b4;\"/>\n   </g>\n   <g id=\"patch_7\">\n    <path clip-path=\"url(#p49fca96d19)\" d=\"M 109.378409 224.64 \nL 124.596591 224.64 \nL 124.596591 222.452475 \nL 109.378409 222.452475 \nz\n\" style=\"fill:#1f77b4;\"/>\n   </g>\n   <g id=\"patch_8\">\n    <path clip-path=\"url(#p49fca96d19)\" d=\"M 124.596591 224.64 \nL 139.814773 224.64 \nL 139.814773 220.26495 \nL 124.596591 220.26495 \nz\n\" style=\"fill:#1f77b4;\"/>\n   </g>\n   <g id=\"patch_9\">\n    <path clip-path=\"url(#p49fca96d19)\" d=\"M 139.814773 224.64 \nL 155.032955 224.64 \nL 155.032955 208.598149 \nL 139.814773 208.598149 \nz\n\" style=\"fill:#1f77b4;\"/>\n   </g>\n   <g id=\"patch_10\">\n    <path clip-path=\"url(#p49fca96d19)\" d=\"M 155.032955 224.64 \nL 170.251136 224.64 \nL 170.251136 199.118873 \nL 155.032955 199.118873 \nz\n\" style=\"fill:#1f77b4;\"/>\n   </g>\n   <g id=\"patch_11\">\n    <path clip-path=\"url(#p49fca96d19)\" d=\"M 170.251136 224.64 \nL 185.469318 224.64 \nL 185.469318 155.36837 \nL 170.251136 155.36837 \nz\n\" style=\"fill:#1f77b4;\"/>\n   </g>\n   <g id=\"patch_12\">\n    <path clip-path=\"url(#p49fca96d19)\" d=\"M 185.469318 224.64 \nL 200.6875 224.64 \nL 200.6875 64.221489 \nL 185.469318 64.221489 \nz\n\" style=\"fill:#1f77b4;\"/>\n   </g>\n   <g id=\"patch_13\">\n    <path clip-path=\"url(#p49fca96d19)\" d=\"M 200.6875 224.64 \nL 215.905682 224.64 \nL 215.905682 17.554286 \nL 200.6875 17.554286 \nz\n\" style=\"fill:#1f77b4;\"/>\n   </g>\n   <g id=\"patch_14\">\n    <path clip-path=\"url(#p49fca96d19)\" d=\"M 215.905682 224.64 \nL 231.123864 224.64 \nL 231.123864 119.638793 \nL 215.905682 119.638793 \nz\n\" style=\"fill:#1f77b4;\"/>\n   </g>\n   <g id=\"patch_15\">\n    <path clip-path=\"url(#p49fca96d19)\" d=\"M 231.123864 224.64 \nL 246.342045 224.64 \nL 246.342045 180.160322 \nL 231.123864 180.160322 \nz\n\" style=\"fill:#1f77b4;\"/>\n   </g>\n   <g id=\"patch_16\">\n    <path clip-path=\"url(#p49fca96d19)\" d=\"M 246.342045 224.64 \nL 261.560227 224.64 \nL 261.560227 204.223099 \nL 246.342045 204.223099 \nz\n\" style=\"fill:#1f77b4;\"/>\n   </g>\n   <g id=\"patch_17\">\n    <path clip-path=\"url(#p49fca96d19)\" d=\"M 261.560227 224.64 \nL 276.778409 224.64 \nL 276.778409 211.514849 \nL 261.560227 211.514849 \nz\n\" style=\"fill:#1f77b4;\"/>\n   </g>\n   <g id=\"patch_18\">\n    <path clip-path=\"url(#p49fca96d19)\" d=\"M 276.778409 224.64 \nL 291.996591 224.64 \nL 291.996591 219.535775 \nL 276.778409 219.535775 \nz\n\" style=\"fill:#1f77b4;\"/>\n   </g>\n   <g id=\"patch_19\">\n    <path clip-path=\"url(#p49fca96d19)\" d=\"M 291.996591 224.64 \nL 307.214773 224.64 \nL 307.214773 220.994125 \nL 291.996591 220.994125 \nz\n\" style=\"fill:#1f77b4;\"/>\n   </g>\n   <g id=\"patch_20\">\n    <path clip-path=\"url(#p49fca96d19)\" d=\"M 307.214773 224.64 \nL 322.432955 224.64 \nL 322.432955 223.910825 \nL 307.214773 223.910825 \nz\n\" style=\"fill:#1f77b4;\"/>\n   </g>\n   <g id=\"patch_21\">\n    <path clip-path=\"url(#p49fca96d19)\" d=\"M 322.432955 224.64 \nL 337.651136 224.64 \nL 337.651136 223.910825 \nL 322.432955 223.910825 \nz\n\" style=\"fill:#1f77b4;\"/>\n   </g>\n   <g id=\"patch_22\">\n    <path clip-path=\"url(#p49fca96d19)\" d=\"M 337.651136 224.64 \nL 352.869318 224.64 \nL 352.869318 221.7233 \nL 337.651136 221.7233 \nz\n\" style=\"fill:#1f77b4;\"/>\n   </g>\n   <g id=\"matplotlib.axis_1\">\n    <g id=\"xtick_1\">\n     <g id=\"line2d_1\">\n      <defs>\n       <path d=\"M 0 0 \nL 0 3.5 \n\" id=\"mc509653f7b\" style=\"stroke:#000000;stroke-width:0.8;\"/>\n      </defs>\n      <g>\n       <use style=\"stroke:#000000;stroke-width:0.8;\" x=\"61.707032\" xlink:href=\"#mc509653f7b\" y=\"224.64\"/>\n      </g>\n     </g>\n     <g id=\"text_1\">\n      <!-- −0.0010 -->\n      <g transform=\"translate(40.021876 239.238437)scale(0.1 -0.1)\">\n       <defs>\n        <path d=\"M 10.59375 35.5 \nL 73.1875 35.5 \nL 73.1875 27.203125 \nL 10.59375 27.203125 \nz\n\" id=\"DejaVuSans-8722\"/>\n        <path d=\"M 31.78125 66.40625 \nQ 24.171875 66.40625 20.328125 58.90625 \nQ 16.5 51.421875 16.5 36.375 \nQ 16.5 21.390625 20.328125 13.890625 \nQ 24.171875 6.390625 31.78125 6.390625 \nQ 39.453125 6.390625 43.28125 13.890625 \nQ 47.125 21.390625 47.125 36.375 \nQ 47.125 51.421875 43.28125 58.90625 \nQ 39.453125 66.40625 31.78125 66.40625 \nz\nM 31.78125 74.21875 \nQ 44.046875 74.21875 50.515625 64.515625 \nQ 56.984375 54.828125 56.984375 36.375 \nQ 56.984375 17.96875 50.515625 8.265625 \nQ 44.046875 -1.421875 31.78125 -1.421875 \nQ 19.53125 -1.421875 13.0625 8.265625 \nQ 6.59375 17.96875 6.59375 36.375 \nQ 6.59375 54.828125 13.0625 64.515625 \nQ 19.53125 74.21875 31.78125 74.21875 \nz\n\" id=\"DejaVuSans-48\"/>\n        <path d=\"M 10.6875 12.40625 \nL 21 12.40625 \nL 21 0 \nL 10.6875 0 \nz\n\" id=\"DejaVuSans-46\"/>\n        <path d=\"M 12.40625 8.296875 \nL 28.515625 8.296875 \nL 28.515625 63.921875 \nL 10.984375 60.40625 \nL 10.984375 69.390625 \nL 28.421875 72.90625 \nL 38.28125 72.90625 \nL 38.28125 8.296875 \nL 54.390625 8.296875 \nL 54.390625 0 \nL 12.40625 0 \nz\n\" id=\"DejaVuSans-49\"/>\n       </defs>\n       <use xlink:href=\"#DejaVuSans-8722\"/>\n       <use x=\"83.789062\" xlink:href=\"#DejaVuSans-48\"/>\n       <use x=\"147.412109\" xlink:href=\"#DejaVuSans-46\"/>\n       <use x=\"179.199219\" xlink:href=\"#DejaVuSans-48\"/>\n       <use x=\"242.822266\" xlink:href=\"#DejaVuSans-48\"/>\n       <use x=\"306.445312\" xlink:href=\"#DejaVuSans-49\"/>\n       <use x=\"370.068359\" xlink:href=\"#DejaVuSans-48\"/>\n      </g>\n     </g>\n    </g>\n    <g id=\"xtick_2\">\n     <g id=\"line2d_2\">\n      <g>\n       <use style=\"stroke:#000000;stroke-width:0.8;\" x=\"131.282563\" xlink:href=\"#mc509653f7b\" y=\"224.64\"/>\n      </g>\n     </g>\n     <g id=\"text_2\">\n      <!-- −0.0005 -->\n      <g transform=\"translate(109.597407 239.238437)scale(0.1 -0.1)\">\n       <defs>\n        <path d=\"M 10.796875 72.90625 \nL 49.515625 72.90625 \nL 49.515625 64.59375 \nL 19.828125 64.59375 \nL 19.828125 46.734375 \nQ 21.96875 47.46875 24.109375 47.828125 \nQ 26.265625 48.1875 28.421875 48.1875 \nQ 40.625 48.1875 47.75 41.5 \nQ 54.890625 34.8125 54.890625 23.390625 \nQ 54.890625 11.625 47.5625 5.09375 \nQ 40.234375 -1.421875 26.90625 -1.421875 \nQ 22.3125 -1.421875 17.546875 -0.640625 \nQ 12.796875 0.140625 7.71875 1.703125 \nL 7.71875 11.625 \nQ 12.109375 9.234375 16.796875 8.0625 \nQ 21.484375 6.890625 26.703125 6.890625 \nQ 35.15625 6.890625 40.078125 11.328125 \nQ 45.015625 15.765625 45.015625 23.390625 \nQ 45.015625 31 40.078125 35.4375 \nQ 35.15625 39.890625 26.703125 39.890625 \nQ 22.75 39.890625 18.8125 39.015625 \nQ 14.890625 38.140625 10.796875 36.28125 \nz\n\" id=\"DejaVuSans-53\"/>\n       </defs>\n       <use xlink:href=\"#DejaVuSans-8722\"/>\n       <use x=\"83.789062\" xlink:href=\"#DejaVuSans-48\"/>\n       <use x=\"147.412109\" xlink:href=\"#DejaVuSans-46\"/>\n       <use x=\"179.199219\" xlink:href=\"#DejaVuSans-48\"/>\n       <use x=\"242.822266\" xlink:href=\"#DejaVuSans-48\"/>\n       <use x=\"306.445312\" xlink:href=\"#DejaVuSans-48\"/>\n       <use x=\"370.068359\" xlink:href=\"#DejaVuSans-53\"/>\n      </g>\n     </g>\n    </g>\n    <g id=\"xtick_3\">\n     <g id=\"line2d_3\">\n      <g>\n       <use style=\"stroke:#000000;stroke-width:0.8;\" x=\"200.858093\" xlink:href=\"#mc509653f7b\" y=\"224.64\"/>\n      </g>\n     </g>\n     <g id=\"text_3\">\n      <!-- 0.0000 -->\n      <g transform=\"translate(183.362781 239.238437)scale(0.1 -0.1)\">\n       <use xlink:href=\"#DejaVuSans-48\"/>\n       <use x=\"63.623047\" xlink:href=\"#DejaVuSans-46\"/>\n       <use x=\"95.410156\" xlink:href=\"#DejaVuSans-48\"/>\n       <use x=\"159.033203\" xlink:href=\"#DejaVuSans-48\"/>\n       <use x=\"222.65625\" xlink:href=\"#DejaVuSans-48\"/>\n       <use x=\"286.279297\" xlink:href=\"#DejaVuSans-48\"/>\n      </g>\n     </g>\n    </g>\n    <g id=\"xtick_4\">\n     <g id=\"line2d_4\">\n      <g>\n       <use style=\"stroke:#000000;stroke-width:0.8;\" x=\"270.433624\" xlink:href=\"#mc509653f7b\" y=\"224.64\"/>\n      </g>\n     </g>\n     <g id=\"text_4\">\n      <!-- 0.0005 -->\n      <g transform=\"translate(252.938312 239.238437)scale(0.1 -0.1)\">\n       <use xlink:href=\"#DejaVuSans-48\"/>\n       <use x=\"63.623047\" xlink:href=\"#DejaVuSans-46\"/>\n       <use x=\"95.410156\" xlink:href=\"#DejaVuSans-48\"/>\n       <use x=\"159.033203\" xlink:href=\"#DejaVuSans-48\"/>\n       <use x=\"222.65625\" xlink:href=\"#DejaVuSans-48\"/>\n       <use x=\"286.279297\" xlink:href=\"#DejaVuSans-53\"/>\n      </g>\n     </g>\n    </g>\n    <g id=\"xtick_5\">\n     <g id=\"line2d_5\">\n      <g>\n       <use style=\"stroke:#000000;stroke-width:0.8;\" x=\"340.009155\" xlink:href=\"#mc509653f7b\" y=\"224.64\"/>\n      </g>\n     </g>\n     <g id=\"text_5\">\n      <!-- 0.0010 -->\n      <g transform=\"translate(322.513842 239.238437)scale(0.1 -0.1)\">\n       <use xlink:href=\"#DejaVuSans-48\"/>\n       <use x=\"63.623047\" xlink:href=\"#DejaVuSans-46\"/>\n       <use x=\"95.410156\" xlink:href=\"#DejaVuSans-48\"/>\n       <use x=\"159.033203\" xlink:href=\"#DejaVuSans-48\"/>\n       <use x=\"222.65625\" xlink:href=\"#DejaVuSans-49\"/>\n       <use x=\"286.279297\" xlink:href=\"#DejaVuSans-48\"/>\n      </g>\n     </g>\n    </g>\n   </g>\n   <g id=\"matplotlib.axis_2\">\n    <g id=\"ytick_1\">\n     <g id=\"line2d_6\">\n      <defs>\n       <path d=\"M 0 0 \nL -3.5 0 \n\" id=\"mb0b0b3e08d\" style=\"stroke:#000000;stroke-width:0.8;\"/>\n      </defs>\n      <g>\n       <use style=\"stroke:#000000;stroke-width:0.8;\" x=\"33.2875\" xlink:href=\"#mb0b0b3e08d\" y=\"224.64\"/>\n      </g>\n     </g>\n     <g id=\"text_6\">\n      <!-- 0 -->\n      <g transform=\"translate(19.925 228.439219)scale(0.1 -0.1)\">\n       <use xlink:href=\"#DejaVuSans-48\"/>\n      </g>\n     </g>\n    </g>\n    <g id=\"ytick_2\">\n     <g id=\"line2d_7\">\n      <g>\n       <use style=\"stroke:#000000;stroke-width:0.8;\" x=\"33.2875\" xlink:href=\"#mb0b0b3e08d\" y=\"188.181247\"/>\n      </g>\n     </g>\n     <g id=\"text_7\">\n      <!-- 50 -->\n      <g transform=\"translate(13.5625 191.980466)scale(0.1 -0.1)\">\n       <use xlink:href=\"#DejaVuSans-53\"/>\n       <use x=\"63.623047\" xlink:href=\"#DejaVuSans-48\"/>\n      </g>\n     </g>\n    </g>\n    <g id=\"ytick_3\">\n     <g id=\"line2d_8\">\n      <g>\n       <use style=\"stroke:#000000;stroke-width:0.8;\" x=\"33.2875\" xlink:href=\"#mb0b0b3e08d\" y=\"151.722495\"/>\n      </g>\n     </g>\n     <g id=\"text_8\">\n      <!-- 100 -->\n      <g transform=\"translate(7.2 155.521714)scale(0.1 -0.1)\">\n       <use xlink:href=\"#DejaVuSans-49\"/>\n       <use x=\"63.623047\" xlink:href=\"#DejaVuSans-48\"/>\n       <use x=\"127.246094\" xlink:href=\"#DejaVuSans-48\"/>\n      </g>\n     </g>\n    </g>\n    <g id=\"ytick_4\">\n     <g id=\"line2d_9\">\n      <g>\n       <use style=\"stroke:#000000;stroke-width:0.8;\" x=\"33.2875\" xlink:href=\"#mb0b0b3e08d\" y=\"115.263742\"/>\n      </g>\n     </g>\n     <g id=\"text_9\">\n      <!-- 150 -->\n      <g transform=\"translate(7.2 119.062961)scale(0.1 -0.1)\">\n       <use xlink:href=\"#DejaVuSans-49\"/>\n       <use x=\"63.623047\" xlink:href=\"#DejaVuSans-53\"/>\n       <use x=\"127.246094\" xlink:href=\"#DejaVuSans-48\"/>\n      </g>\n     </g>\n    </g>\n    <g id=\"ytick_5\">\n     <g id=\"line2d_10\">\n      <g>\n       <use style=\"stroke:#000000;stroke-width:0.8;\" x=\"33.2875\" xlink:href=\"#mb0b0b3e08d\" y=\"78.80499\"/>\n      </g>\n     </g>\n     <g id=\"text_10\">\n      <!-- 200 -->\n      <g transform=\"translate(7.2 82.604209)scale(0.1 -0.1)\">\n       <defs>\n        <path d=\"M 19.1875 8.296875 \nL 53.609375 8.296875 \nL 53.609375 0 \nL 7.328125 0 \nL 7.328125 8.296875 \nQ 12.9375 14.109375 22.625 23.890625 \nQ 32.328125 33.6875 34.8125 36.53125 \nQ 39.546875 41.84375 41.421875 45.53125 \nQ 43.3125 49.21875 43.3125 52.78125 \nQ 43.3125 58.59375 39.234375 62.25 \nQ 35.15625 65.921875 28.609375 65.921875 \nQ 23.96875 65.921875 18.8125 64.3125 \nQ 13.671875 62.703125 7.8125 59.421875 \nL 7.8125 69.390625 \nQ 13.765625 71.78125 18.9375 73 \nQ 24.125 74.21875 28.421875 74.21875 \nQ 39.75 74.21875 46.484375 68.546875 \nQ 53.21875 62.890625 53.21875 53.421875 \nQ 53.21875 48.921875 51.53125 44.890625 \nQ 49.859375 40.875 45.40625 35.40625 \nQ 44.1875 33.984375 37.640625 27.21875 \nQ 31.109375 20.453125 19.1875 8.296875 \nz\n\" id=\"DejaVuSans-50\"/>\n       </defs>\n       <use xlink:href=\"#DejaVuSans-50\"/>\n       <use x=\"63.623047\" xlink:href=\"#DejaVuSans-48\"/>\n       <use x=\"127.246094\" xlink:href=\"#DejaVuSans-48\"/>\n      </g>\n     </g>\n    </g>\n    <g id=\"ytick_6\">\n     <g id=\"line2d_11\">\n      <g>\n       <use style=\"stroke:#000000;stroke-width:0.8;\" x=\"33.2875\" xlink:href=\"#mb0b0b3e08d\" y=\"42.346237\"/>\n      </g>\n     </g>\n     <g id=\"text_11\">\n      <!-- 250 -->\n      <g transform=\"translate(7.2 46.145456)scale(0.1 -0.1)\">\n       <use xlink:href=\"#DejaVuSans-50\"/>\n       <use x=\"63.623047\" xlink:href=\"#DejaVuSans-53\"/>\n       <use x=\"127.246094\" xlink:href=\"#DejaVuSans-48\"/>\n      </g>\n     </g>\n    </g>\n   </g>\n   <g id=\"patch_23\">\n    <path d=\"M 33.2875 224.64 \nL 33.2875 7.2 \n\" style=\"fill:none;stroke:#000000;stroke-linecap:square;stroke-linejoin:miter;stroke-width:0.8;\"/>\n   </g>\n   <g id=\"patch_24\">\n    <path d=\"M 368.0875 224.64 \nL 368.0875 7.2 \n\" style=\"fill:none;stroke:#000000;stroke-linecap:square;stroke-linejoin:miter;stroke-width:0.8;\"/>\n   </g>\n   <g id=\"patch_25\">\n    <path d=\"M 33.2875 224.64 \nL 368.0875 224.64 \n\" style=\"fill:none;stroke:#000000;stroke-linecap:square;stroke-linejoin:miter;stroke-width:0.8;\"/>\n   </g>\n   <g id=\"patch_26\">\n    <path d=\"M 33.2875 7.2 \nL 368.0875 7.2 \n\" style=\"fill:none;stroke:#000000;stroke-linecap:square;stroke-linejoin:miter;stroke-width:0.8;\"/>\n   </g>\n  </g>\n </g>\n <defs>\n  <clipPath id=\"p49fca96d19\">\n   <rect height=\"217.44\" width=\"334.8\" x=\"33.2875\" y=\"7.2\"/>\n  </clipPath>\n </defs>\n</svg>\n",
      "image/png": "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"
     },
     "metadata": {
      "needs_background": "light"
     }
    }
   ],
   "metadata": {}
  },
  {
   "cell_type": "code",
<<<<<<< HEAD
   "execution_count": 16,
   "metadata": {},
=======
   "execution_count": 30,
   "source": [
    "neg_log_lik = get_neg_log_lik(feb_09['deltas'], norm, ['loc', 'scale'])\n",
    "optim(neg_log_lik, [0, 0.001])"
   ],
>>>>>>> 08b7ea7c48a391c8ea57c149eef0506bb816a3dd
   "outputs": [
    {
     "output_type": "execute_result",
     "data": {
      "text/plain": [
       " final_simplex: (array([[3.73385354e-06, 2.19725284e-04],\n",
       "       [3.63646961e-06, 2.19965473e-04],\n",
       "       [4.05164960e-06, 2.19920762e-04]]), array([-6618.34372915, -6618.34368707, -6618.34366668]))\n",
       "           fun: -6618.343729151348\n",
       "       message: 'Optimization terminated successfully.'\n",
       "          nfev: 68\n",
       "           nit: 35\n",
       "        status: 0\n",
       "       success: True\n",
       "             x: array([3.73385354e-06, 2.19725284e-04])"
      ]
     },
<<<<<<< HEAD
     "execution_count": 16,
=======
>>>>>>> 08b7ea7c48a391c8ea57c149eef0506bb816a3dd
     "metadata": {},
     "execution_count": 30
    }
   ],
<<<<<<< HEAD
   "source": [
    "neg_log_lik = get_neg_log_lik(feb_09['deltas'], norm, ['loc', 'scale'])\n",
    "res = optim(neg_log_lik, [0, 0.001], opt='nelder-mead')\n",
    "res"
   ]
  },
  {
   "cell_type": "code",
   "execution_count": 18,
   "metadata": {},
   "outputs": [
    {
     "data": {
      "text/plain": [
       "3.7338535375965863e-06"
      ]
     },
     "execution_count": 18,
     "metadata": {},
     "output_type": "execute_result"
    }
   ],
   "source": [
    "res.x[0]"
   ]
  },
  {
   "cell_type": "code",
   "execution_count": 29,
   "metadata": {},
   "outputs": [
    {
     "data": {
      "image/png": "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\n",
      "text/plain": [
       "<Figure size 432x288 with 1 Axes>"
      ]
     },
     "metadata": {
      "needs_background": "light"
     },
     "output_type": "display_data"
    }
   ],
   "source": [
    "arr = feb_09['deltas']\n",
    "plt.hist(arr, bins=40, density=True)\n",
    "plt.xlim((min(arr), max(arr)))\n",
    "\n",
    "x = np.linspace(min(arr), max(arr), 100)\n",
    "plt.plot(x, norm.pdf(x, res.x[0], res.x[1]))\n",
    "\n",
    "plt.show()"
   ]
  },
  {
   "cell_type": "code",
   "execution_count": null,
   "metadata": {},
   "outputs": [],
   "source": []
=======
   "metadata": {}
>>>>>>> 08b7ea7c48a391c8ea57c149eef0506bb816a3dd
  }
 ],
 "metadata": {
  "interpreter": {
   "hash": "7adc034d2bae42754621dfef56fb826d586cc3ae89b4958f3a6eaffc035e1bc9"
  },
  "kernelspec": {
   "name": "python3",
   "display_name": "Python 3.8.5 64-bit ('base': conda)"
  },
  "language_info": {
   "codemirror_mode": {
    "name": "ipython",
    "version": 3
   },
   "file_extension": ".py",
   "mimetype": "text/x-python",
   "name": "python",
   "nbconvert_exporter": "python",
   "pygments_lexer": "ipython3",
   "version": "3.8.5"
  }
 },
 "nbformat": 4,
 "nbformat_minor": 2
}