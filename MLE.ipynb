{
 "cells": [
  {
   "cell_type": "code",
   "execution_count": 32,
   "metadata": {},
   "outputs": [],
   "source": [
    "import numpy as np\n",
    "import pandas as pd\n",
    "import matplotlib.pyplot as plt\n",
    "from scipy.stats import norm, t\n",
    "from scipy.optimize import minimize\n",
    "from datetime import timedelta"
   ]
  },
  {
   "cell_type": "code",
   "execution_count": 33,
   "metadata": {},
   "outputs": [
    {
     "name": "stderr",
     "output_type": "stream",
     "text": [
      "/Applications/anaconda3/lib/python3.7/site-packages/ipykernel_launcher.py:3: SettingWithCopyWarning: \n",
      "A value is trying to be set on a copy of a slice from a DataFrame\n",
      "\n",
      "See the caveats in the documentation: https://pandas.pydata.org/pandas-docs/stable/user_guide/indexing.html#returning-a-view-versus-a-copy\n",
      "  This is separate from the ipykernel package so we can avoid doing imports until\n",
      "/Applications/anaconda3/lib/python3.7/site-packages/ipykernel_launcher.py:4: SettingWithCopyWarning: \n",
      "A value is trying to be set on a copy of a slice from a DataFrame\n",
      "\n",
      "See the caveats in the documentation: https://pandas.pydata.org/pandas-docs/stable/user_guide/indexing.html#returning-a-view-versus-a-copy\n",
      "  after removing the cwd from sys.path.\n"
     ]
    }
   ],
   "source": [
    "df = pd.read_csv(\"data/SPY_minute.csv\",skiprows=1)\n",
    "datetimes = pd.to_datetime(df.Dates[1:], format='%m/%d/%y %H:%M')\n",
    "df[\"Dates\"][1:] = datetimes\n",
    "df[\"Dates\"][0] = df[\"Dates\"][1] - timedelta(minutes=1)\n",
    "df[\"log_ret\"] = np.log(df[\"Close\"]) - np.log(df.shift(1)[\"Close\"])\n",
    "df = df.dropna()\n"
   ]
  },
  {
   "cell_type": "code",
   "execution_count": 34,
   "metadata": {},
   "outputs": [],
   "source": [
    "# Group data by date\n",
    "from collections import defaultdict\n",
    "ret_by_date = defaultdict(list)\n",
    "for i in range(len(df)):\n",
    "    ret_by_date[df[\"Dates\"].iloc[i].date()].append(df[\"log_ret\"].iloc[i])\n",
    "\n",
    "    "
   ]
  },
  {
   "cell_type": "code",
   "execution_count": 35,
   "metadata": {},
   "outputs": [],
   "source": [
    "\n",
    "\n",
    "def get_neg_log_lik(data, dist, kw):\n",
    "    return lambda params: -1 * np.sum(dist.logpdf(data, **{kw[i] : params[i] for i in range(len(params))}))\n",
    "\n",
    "def optim(log_lik, x0, opt='SLSQP'):\n",
    "    return minimize(neg_log_lik, x0,method=opt)\n",
    "\n",
    "# neg_log_lik = get_neg_log_lik(log_ret, norm, ['loc', 'scale'])\n",
    "# optim(neg_log_lik, [0, 1])"
   ]
  },
  {
   "cell_type": "code",
   "execution_count": 37,
   "metadata": {},
   "outputs": [],
   "source": [
    "# Run MLE each day\n",
    "pars = []\n",
    "for date, rets in ret_by_date.items():\n",
    "    neg_log_lik = get_neg_log_lik(rets, t, ['df', 'loc', 'scale'])\n",
    "    pars.append(optim(neg_log_lik, [3, 0, 1], opt='nelder-mead').x)\n",
    "res = pd.DataFrame(pars)\n",
    "res = res.rename(columns={0:\"df\", 1:\"mu\", 2:\"sigma\"})\n",
    "res.index = ret_by_date.keys()\n",
    "res.to_csv(\"data/pars_t_daily_spy.csv\")"
   ]
  },
  {
   "cell_type": "code",
   "execution_count": 24,
   "metadata": {},
   "outputs": [
    {
     "data": {
      "text/plain": [
       "{'loc': 1, 'scale': 3}"
      ]
     },
     "execution_count": 24,
     "metadata": {},
     "output_type": "execute_result"
    }
   ],
   "source": [
    "generated_data = np.random.normal(loc=2, scale=3, size=100)\n",
    "kw = ['loc', 'scale']\n",
    "params = [1,3]\n",
    "dict(zip(kw,params))"
   ]
  },
  {
   "cell_type": "code",
   "execution_count": 10,
   "metadata": {},
   "outputs": [],
   "source": [
    "import pandas as pd\n",
    "import matplotlib.pyplot as plt"
   ]
  },
  {
   "cell_type": "code",
   "execution_count": 7,
   "metadata": {},
   "outputs": [],
   "source": [
    "def load_data():\n",
    "    df = pd.read_csv(\n",
    "    'E-mini S&P 500 minute data (2 days).csv', header=1)\n",
    "    cols = [\"Date Time\", \"Close\"]\n",
    "    data = df[cols]\n",
    "    data = data.set_axis([\"timestamp\", \"close\"], axis=1)\n",
    "    return data\n",
    "\n",
    "\n",
    "def deltas():\n",
    "    df = load_data()\n",
    "    df[\"log\"] = np.log(df[\"close\"].astype(float))\n",
    "    df[\"deltas\"] = df[\"log\"].diff()\n",
    "    df.dropna(inplace=True)\n",
    "    final_data = df[[\"timestamp\", \"close\", \"deltas\"]]\n",
    "    #final_data = final_data.set_axis([\"timestamp\", \"close\", \"deltas\"], axis=1)\n",
    "    return final_data"
   ]
  },
  {
   "cell_type": "code",
   "execution_count": 8,
   "metadata": {},
   "outputs": [],
   "source": [
    "data = deltas()\n",
    "feb_09 = data[(data['timestamp'] >= '2022-02-09') & (data['timestamp'] < '2022-02-10')]"
   ]
  },
  {
   "cell_type": "code",
   "execution_count": 11,
   "metadata": {},
   "outputs": [
    {
     "data": {
      "text/plain": [
       "(array([  2.,   0.,   6.,   3.,   3.,   6.,  22.,  35.,  95., 220., 284.,\n",
       "        144.,  61.,  28.,  18.,   7.,   5.,   1.,   1.,   4.]),\n",
       " array([-1.09487064e-03, -9.85506173e-04, -8.76141704e-04, -7.66777236e-04,\n",
       "        -6.57412768e-04, -5.48048300e-04, -4.38683832e-04, -3.29319363e-04,\n",
       "        -2.19954895e-04, -1.10590427e-04, -1.22595874e-06,  1.08138509e-04,\n",
       "         2.17502978e-04,  3.26867446e-04,  4.36231914e-04,  5.45596382e-04,\n",
       "         6.54960851e-04,  7.64325319e-04,  8.73689787e-04,  9.83054255e-04,\n",
       "         1.09241872e-03]),\n",
       " <BarContainer object of 20 artists>)"
      ]
     },
     "execution_count": 11,
     "metadata": {},
     "output_type": "execute_result"
    },
    {
     "data": {
      "image/png": "[encoded data removed]",
      "text/plain": [
       "<Figure size 432x288 with 1 Axes>"
      ]
     },
     "metadata": {
      "needs_background": "light"
     },
     "output_type": "display_data"
    }
   ],
   "source": [
    "plt.hist(feb_09['deltas'], bins=20)"
   ]
  },
  {
   "cell_type": "code",
   "execution_count": 17,
   "metadata": {},
   "outputs": [],
   "source": [
    "neg_log_lik = get_neg_log_lik(feb_09['deltas'], norm, ['loc', 'scale'])\n",
    "res = optim(neg_log_lik, [0, 0.001], opt='nelder-mead')"
   ]
  },
  {
   "cell_type": "code",
   "execution_count": 18,
   "metadata": {},
   "outputs": [
    {
     "data": {
      "image/png": "[encoded data removed]",
      "text/plain": [
       "<Figure size 432x288 with 1 Axes>"
      ]
     },
     "metadata": {
      "needs_background": "light"
     },
     "output_type": "display_data"
    }
   ],
   "source": [
    "arr = feb_09['deltas']\n",
    "plt.hist(arr, bins=40, density=True)\n",
    "plt.xlim((min(arr), max(arr)))\n",
    "x = np.linspace(min(arr), max(arr), 100)\n",
    "plt.plot(x, norm.pdf(x, res.x[0], res.x[1]))\n",
    "plt.show()"
   ]
  },
  {
   "cell_type": "code",
   "execution_count": null,
   "metadata": {},
   "outputs": [],
   "source": []
  }
 ],
 "metadata": {
  "interpreter": {
   "hash": "cd78fef2128015050713e82ca51c6520b11aee7c9ee8df750520bbbc7384cbaa"
  },
  "kernelspec": {
   "display_name": "Python 3 (ipykernel)",
   "language": "python",
   "name": "python3"
  },
  "language_info": {
   "codemirror_mode": {
    "name": "ipython",
    "version": 3
   },
   "file_extension": ".py",
   "mimetype": "text/x-python",
   "name": "python",
   "nbconvert_exporter": "python",
   "pygments_lexer": "ipython3",
   "version": "3.7.9"
  }
 },
 "nbformat": 4,
 "nbformat_minor": 2
}
