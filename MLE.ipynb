{
 "cells": [
  {
   "cell_type": "code",
   "execution_count": 1,
   "metadata": {},
   "outputs": [],
   "source": [
    "import numpy as np\n",
    "from scipy.stats import norm, t\n",
    "from scipy.optimize import minimize"
   ]
  },
  {
   "cell_type": "code",
   "execution_count": 4,
   "metadata": {},
   "outputs": [
    {
     "data": {
      "text/plain": [
       "      fun: 2592.368149494764\n",
       " hess_inv: array([[ 1.82657322e+01, -2.15568951e-02,  2.66490027e-01],\n",
       "       [-2.15568951e-02,  9.62707301e-03, -3.84173082e-04],\n",
       "       [ 2.66490027e-01, -3.84173082e-04,  8.90740929e-03]])\n",
       "      jac: array([0., 0., 0.])\n",
       "  message: 'Optimization terminated successfully.'\n",
       "     nfev: 116\n",
       "      nit: 22\n",
       "     njev: 29\n",
       "   status: 0\n",
       "  success: True\n",
       "        x: array([14.03218483,  2.00832913,  3.00704553])"
      ]
     },
     "execution_count": 4,
     "metadata": {},
     "output_type": "execute_result"
    }
   ],
   "source": [
    "x = np.random.normal(loc=2, scale=3, size=1000)\n",
    "x_t = t.rvs(df=20, loc=2, scale=3, size=1000) \n",
    "\n",
    "def get_neg_log_lik(data, dist, kw):\n",
    "    return lambda params: -1 * np.sum(dist.logpdf(data, **{kw[i] : params[i] for i in range(len(params))}))\n",
    "\n",
    "def optim(log_lik, x0):\n",
    "    # SLSQP\n",
    "    return minimize(neg_log_lik, x0,method='BFGS', options={\"maxiter\":10_000*len(x0)})\n",
    "\n",
    "neg_log_lik = get_neg_log_lik(x_t, t, ['df', 'loc', 'scale'])\n",
    "optim(neg_log_lik, [3, 1, 1])\n"
   ]
  },
  {
   "cell_type": "code",
   "execution_count": 5,
   "metadata": {},
   "outputs": [
    {
     "data": {
      "text/plain": [
       "{'loc': 1, 'scale': 3}"
      ]
     },
     "execution_count": 5,
     "metadata": {},
     "output_type": "execute_result"
    }
   ],
   "source": [
    "generated_data = np.random.normal(loc=2, scale=3, size=100)\n",
    "kw = ['loc', 'scale']\n",
    "params = [1,3]\n",
    "dict(zip(kw,params))"
   ]
  },
  {
   "cell_type": "markdown",
   "metadata": {},
   "source": [
    "# Using Actual Data"
   ]
  },
  {
   "cell_type": "code",
   "execution_count": 6,
   "metadata": {},
   "outputs": [],
   "source": [
    "import pandas as pd\n",
    "import matplotlib.pyplot as plt"
   ]
  },
  {
   "cell_type": "code",
   "execution_count": 7,
   "metadata": {},
   "outputs": [],
   "source": [
    "SPY_2DAY = pd.read_csv('E-mini S&P 500 minute data (2 days).csv')"
   ]
  },
  {
   "cell_type": "code",
   "execution_count": 8,
   "metadata": {},
   "outputs": [],
   "source": [
    "def load_data():\n",
    "    df = pd.read_csv(\n",
    "        'E-mini S&P 500 minute data (2 days).csv', header=1)\n",
    "    cols = [\"Date Time\", \"Close\"]\n",
    "    data = df[cols]\n",
    "    data = data.set_axis([\"timestamp\", \"close\"], axis=1)\n",
    "    return data\n",
    "\n",
    "\n",
    "def deltas():\n",
    "    df = load_data()\n",
    "    df[\"log\"] = np.log(df[\"close\"].astype(float))\n",
    "    df[\"deltas\"] = df[\"log\"].diff()\n",
    "    df.dropna(inplace=True)\n",
    "    final_data = df[[\"timestamp\", \"close\", \"deltas\"]]\n",
    "    #final_data = final_data.set_axis([\"timestamp\", \"close\", \"deltas\"], axis=1)\n",
    "    return final_data"
   ]
  },
  {
   "cell_type": "code",
   "execution_count": 9,
   "metadata": {},
   "outputs": [],
   "source": [
    "data = deltas()\n",
    "feb_09 = data[(data['timestamp'] >= '2022-02-09') & (data['timestamp'] < '2022-02-10')]"
   ]
  },
  {
   "cell_type": "code",
   "execution_count": 10,
   "metadata": {},
   "outputs": [
    {
     "data": {
      "text/plain": [
       "1      0.000165\n",
       "2     -0.000110\n",
       "3      0.000055\n",
       "4     -0.000110\n",
       "5     -0.000110\n",
       "         ...   \n",
       "941    0.000219\n",
       "942    0.000109\n",
       "943    0.000109\n",
       "944    0.000438\n",
       "945    0.000109\n",
       "Name: deltas, Length: 945, dtype: float64"
      ]
     },
     "execution_count": 10,
     "metadata": {},
     "output_type": "execute_result"
    }
   ],
   "source": [
    "feb_09['deltas']"
   ]
  },
  {
   "cell_type": "code",
   "execution_count": 11,
   "metadata": {},
   "outputs": [
    {
     "data": {
      "text/plain": [
       "(array([  2.,   0.,   6.,   3.,   3.,   6.,  22.,  35.,  95., 220., 284.,\n",
       "        144.,  61.,  28.,  18.,   7.,   5.,   1.,   1.,   4.]),\n",
       " array([-1.09487064e-03, -9.85506173e-04, -8.76141704e-04, -7.66777236e-04,\n",
       "        -6.57412768e-04, -5.48048300e-04, -4.38683832e-04, -3.29319363e-04,\n",
       "        -2.19954895e-04, -1.10590427e-04, -1.22595874e-06,  1.08138509e-04,\n",
       "         2.17502978e-04,  3.26867446e-04,  4.36231914e-04,  5.45596382e-04,\n",
       "         6.54960851e-04,  7.64325319e-04,  8.73689787e-04,  9.83054255e-04,\n",
       "         1.09241872e-03]),\n",
       " <BarContainer object of 20 artists>)"
      ]
     },
     "execution_count": 11,
     "metadata": {},
     "output_type": "execute_result"
    },
    {
     "data": {
      "image/png": "[encoded data removed]",
      "text/plain": [
       "<Figure size 432x288 with 1 Axes>"
      ]
     },
     "metadata": {
      "needs_background": "light"
     },
     "output_type": "display_data"
    }
   ],
   "source": [
    "plt.hist(feb_09['deltas'], bins=20)"
   ]
  },
  {
   "cell_type": "code",
   "execution_count": 12,
   "metadata": {},
   "outputs": [
    {
     "data": {
      "text/plain": [
       "      fun: nan\n",
       " hess_inv: array([[1, 0],\n",
       "       [0, 1]])\n",
       "      jac: array([nan, nan])\n",
       "  message: 'Desired error not necessarily achieved due to precision loss.'\n",
       "     nfev: 336\n",
       "      nit: 1\n",
       "     njev: 112\n",
       "   status: 2\n",
       "  success: False\n",
       "        x: array([    4.14960818, -1034.23067538])"
      ]
     },
     "execution_count": 12,
     "metadata": {},
     "output_type": "execute_result"
    }
   ],
   "source": [
    "neg_log_lik = get_neg_log_lik(feb_09['deltas'], norm, ['loc', 'scale'])\n",
    "optim(neg_log_lik, [0, 0.001])"
   ]
  },
  {
   "cell_type": "code",
   "execution_count": null,
   "metadata": {},
   "outputs": [],
   "source": []
  }
 ],
 "metadata": {
  "interpreter": {
   "hash": "cd78fef2128015050713e82ca51c6520b11aee7c9ee8df750520bbbc7384cbaa"
  },
  "kernelspec": {
   "display_name": "Python 3 (ipykernel)",
   "language": "python",
   "name": "python3"
  },
  "language_info": {
   "codemirror_mode": {
    "name": "ipython",
    "version": 3
   },
   "file_extension": ".py",
   "mimetype": "text/x-python",
   "name": "python",
   "nbconvert_exporter": "python",
   "pygments_lexer": "ipython3",
   "version": "3.10.2"
  }
 },
 "nbformat": 4,
 "nbformat_minor": 2
}
