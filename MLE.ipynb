{
 "cells": [
  {
   "cell_type": "code",
   "execution_count": 1,
   "metadata": {},
   "outputs": [],
   "source": [
    "import numpy as np\n",
    "from scipy.stats import norm, t\n",
    "from scipy.optimize import minimize"
   ]
  },
  {
   "cell_type": "code",
   "execution_count": 2,
   "metadata": {},
   "outputs": [
    {
     "data": {
      "text/plain": [
       "     fun: 2560.8850599770412\n",
       "     jac: array([-0.00811768, -0.00640869,  0.02166748])\n",
       " message: 'Optimization terminated successfully'\n",
       "    nfev: 137\n",
       "     nit: 27\n",
       "    njev: 27\n",
       "  status: 0\n",
       " success: True\n",
       "       x: array([261.0901685 ,   1.97354845,   3.12134305])"
      ]
     },
     "execution_count": 2,
     "metadata": {},
     "output_type": "execute_result"
    }
   ],
   "source": [
    "x = np.random.normal(loc=2, scale=3, size=1000)\n",
    "x_t = t.rvs(df=20, loc=2, scale=3, size=1000) \n",
    "\n",
    "def get_neg_log_lik(data, dist, kw):\n",
    "    return lambda params: -1 * np.sum(dist.logpdf(data, **{kw[i] : params[i] for i in range(len(params))}))\n",
    "\n",
    "def optim(log_lik, x0):\n",
    "    return minimize(neg_log_lik, x0,method='SLSQP')\n",
    "\n",
    "neg_log_lik = get_neg_log_lik(x_t, t, ['df', 'loc', 'scale'])\n",
    "optim(neg_log_lik, [3, 1, 1])"
   ]
  },
  {
   "cell_type": "code",
   "execution_count": 42,
   "metadata": {},
   "outputs": [
    {
     "data": {
      "text/plain": [
       "{'loc': 1, 'scale': 3}"
      ]
     },
     "execution_count": 42,
     "metadata": {},
     "output_type": "execute_result"
    }
   ],
   "source": [
    "generated_data = np.random.normal(loc=2, scale=3, size=100)\n",
    "kw = ['loc', 'scale']\n",
    "params = [1,3]\n",
    "dict(zip(kw,params))"
   ]
  },
  {
   "cell_type": "code",
   "execution_count": null,
   "metadata": {},
   "outputs": [],
   "source": []
  }
 ],
 "metadata": {
  "interpreter": {
   "hash": "cd78fef2128015050713e82ca51c6520b11aee7c9ee8df750520bbbc7384cbaa"
  },
  "kernelspec": {
   "display_name": "Python 3.7.9 ('base')",
   "language": "python",
   "name": "python3"
  },
  "language_info": {
   "codemirror_mode": {
    "name": "ipython",
    "version": 3
   },
   "file_extension": ".py",
   "mimetype": "text/x-python",
   "name": "python",
   "nbconvert_exporter": "python",
   "pygments_lexer": "ipython3",
   "version": "3.7.9"
  },
  "orig_nbformat": 4
 },
 "nbformat": 4,
 "nbformat_minor": 2
}
