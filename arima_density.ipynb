{
 "cells": [
  {
   "cell_type": "code",
   "execution_count": 6,
   "metadata": {},
   "outputs": [],
   "source": [
    "import pandas as pd\n",
    "import arima\n"
   ]
  },
  {
   "cell_type": "code",
   "execution_count": 12,
   "metadata": {},
   "outputs": [
    {
     "data": {
      "text/html": [
       "<div>\n",
       "<style scoped>\n",
       "    .dataframe tbody tr th:only-of-type {\n",
       "        vertical-align: middle;\n",
       "    }\n",
       "\n",
       "    .dataframe tbody tr th {\n",
       "        vertical-align: top;\n",
       "    }\n",
       "\n",
       "    .dataframe thead th {\n",
       "        text-align: right;\n",
       "    }\n",
       "</style>\n",
       "<table border=\"1\" class=\"dataframe\">\n",
       "  <thead>\n",
       "    <tr style=\"text-align: right;\">\n",
       "      <th></th>\n",
       "      <th>mu</th>\n",
       "      <th>sigma</th>\n",
       "    </tr>\n",
       "  </thead>\n",
       "  <tbody>\n",
       "    <tr>\n",
       "      <th>2021-12-01</th>\n",
       "      <td>-0.000060</td>\n",
       "      <td>0.000530</td>\n",
       "    </tr>\n",
       "    <tr>\n",
       "      <th>2021-12-02</th>\n",
       "      <td>0.000039</td>\n",
       "      <td>0.000643</td>\n",
       "    </tr>\n",
       "    <tr>\n",
       "      <th>2021-12-03</th>\n",
       "      <td>-0.000022</td>\n",
       "      <td>0.000703</td>\n",
       "    </tr>\n",
       "    <tr>\n",
       "      <th>2021-12-06</th>\n",
       "      <td>0.000030</td>\n",
       "      <td>0.000565</td>\n",
       "    </tr>\n",
       "    <tr>\n",
       "      <th>2021-12-07</th>\n",
       "      <td>0.000053</td>\n",
       "      <td>0.000659</td>\n",
       "    </tr>\n",
       "  </tbody>\n",
       "</table>\n",
       "</div>"
      ],
      "text/plain": [
       "                  mu     sigma\n",
       "2021-12-01 -0.000060  0.000530\n",
       "2021-12-02  0.000039  0.000643\n",
       "2021-12-03 -0.000022  0.000703\n",
       "2021-12-06  0.000030  0.000565\n",
       "2021-12-07  0.000053  0.000659"
      ]
     },
     "execution_count": 12,
     "metadata": {},
     "output_type": "execute_result"
    }
   ],
   "source": [
    "df = pd.read_csv(\"data/pars_normal_daily.csv\", index_col=0)\n",
    "df.head()\n"
   ]
  },
  {
   "cell_type": "code",
   "execution_count": 13,
   "metadata": {},
   "outputs": [
    {
     "name": "stdout",
     "output_type": "stream",
     "text": [
      "Augmented Dickey-Fuller Test:\n",
      "ADF Test Statistic : -6.380010424709301\n",
      "p-value : 2.2343714059109522e-08\n",
      "Number of Lags Used : 1\n",
      "Number of Observations Used : 67\n",
      "strong evidence against the null hypothesis, reject the null hypothesis. Data has no unit root and is stationary\n",
      "Augmented Dickey-Fuller Test:\n",
      "ADF Test Statistic : -4.020289290202549\n",
      "p-value : 0.0013079185626142368\n",
      "Number of Lags Used : 0\n",
      "Number of Observations Used : 68\n",
      "strong evidence against the null hypothesis, reject the null hypothesis. Data has no unit root and is stationary\n"
     ]
    }
   ],
   "source": [
    "# Check for stationarity\n",
    "arima.adf_check(df[\"mu\"])\n",
    "arima.adf_check(df[\"sigma\"])"
   ]
  },
  {
   "cell_type": "code",
   "execution_count": 17,
   "metadata": {},
   "outputs": [
    {
     "data": {
      "text/plain": [
       "2021-12-01   -6.037869e-05\n",
       "2021-12-02    3.894678e-05\n",
       "2021-12-03   -2.216320e-05\n",
       "2021-12-06    2.986841e-05\n",
       "2021-12-07    5.250907e-05\n",
       "2021-12-08    6.719236e-06\n",
       "2021-12-09   -1.720688e-05\n",
       "2021-12-10    2.415532e-05\n",
       "2021-12-13   -2.275898e-05\n",
       "2021-12-14   -1.768329e-05\n",
       "2021-12-15    3.946122e-05\n",
       "2021-12-16   -2.279009e-05\n",
       "2021-12-17   -3.651950e-05\n",
       "2021-12-20   -2.695826e-05\n",
       "2021-12-21    4.439266e-05\n",
       "2021-12-22    2.535164e-05\n",
       "2021-12-23    1.577623e-05\n",
       "2021-12-27    3.591721e-05\n",
       "2021-12-28   -2.019977e-06\n",
       "2021-12-29    3.291500e-06\n",
       "2021-12-30   -7.106460e-06\n",
       "2021-12-31   -6.523487e-06\n",
       "2022-01-03    1.480501e-05\n",
       "2022-01-04   -8.017274e-07\n",
       "2022-01-05   -4.956609e-05\n",
       "2022-01-06   -2.333152e-06\n",
       "2022-01-07   -1.011736e-05\n",
       "2022-01-10   -3.430706e-06\n",
       "2022-01-11    2.328083e-05\n",
       "2022-01-12    6.792028e-06\n",
       "2022-01-13   -3.532494e-05\n",
       "2022-01-14    9.100415e-07\n",
       "2022-01-18   -4.555285e-05\n",
       "2022-01-19   -2.673547e-05\n",
       "2022-01-20   -2.824292e-05\n",
       "2022-01-21   -5.031400e-05\n",
       "2022-01-24    1.060642e-05\n",
       "2022-01-25   -3.110365e-05\n",
       "2022-01-26   -6.528245e-06\n",
       "2022-01-27   -1.221707e-05\n",
       "2022-01-28    6.250607e-05\n",
       "2022-01-31    4.548373e-05\n",
       "2022-02-01    1.734217e-05\n",
       "2022-02-02    2.490574e-05\n",
       "2022-02-03   -6.100213e-05\n",
       "2022-02-04    1.184281e-05\n",
       "2022-02-07   -8.253080e-06\n",
       "2022-02-08    2.095049e-05\n",
       "2022-02-09    3.697829e-05\n",
       "2022-02-10   -4.639173e-05\n",
       "2022-02-11   -5.038753e-05\n",
       "2022-02-14   -8.226573e-06\n",
       "2022-02-15    4.079692e-05\n",
       "2022-02-16    2.867180e-06\n",
       "2022-02-17   -5.494863e-05\n",
       "Name: mu, dtype: float64"
      ]
     },
     "execution_count": 17,
     "metadata": {},
     "output_type": "execute_result"
    }
   ],
   "source": [
    "idx = int(len(df)*0.8)\n",
    "train, test = df.iloc[:idx], df.iloc[idx:]\n",
    "train.head(), test.head()"
   ]
  },
  {
   "cell_type": "code",
   "execution_count": null,
   "metadata": {},
   "outputs": [],
   "source": []
  }
 ],
 "metadata": {
  "interpreter": {
   "hash": "cd78fef2128015050713e82ca51c6520b11aee7c9ee8df750520bbbc7384cbaa"
  },
  "kernelspec": {
   "display_name": "Python 3.7.9 ('base')",
   "language": "python",
   "name": "python3"
  },
  "language_info": {
   "codemirror_mode": {
    "name": "ipython",
    "version": 3
   },
   "file_extension": ".py",
   "mimetype": "text/x-python",
   "name": "python",
   "nbconvert_exporter": "python",
   "pygments_lexer": "ipython3",
   "version": "3.7.9"
  },
  "orig_nbformat": 4
 },
 "nbformat": 4,
 "nbformat_minor": 2
}
