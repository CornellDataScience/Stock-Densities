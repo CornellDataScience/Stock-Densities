{
 "cells": [
  {
   "cell_type": "code",
   "execution_count": 1,
   "metadata": {},
   "outputs": [],
   "source": [
    "import alpaca_trade_api as tradeapi\n",
    "\n",
    "# API Info for fetching data, portfolio, etc. from Alpaca\n",
    "BASE_URL = \"https://paper-api.alpaca.markets\"\n",
    "ALPACA_API_KEY = \"PKN0CU5SS6D4T0W9MKCP\"\n",
    "ALPACA_SECRET_KEY = \"NE43VrhvPQgywfEsMp8IGQLlTYVcs586dEcW4Sx1\"\n",
    "\n",
    "# Instantiate REST API Connection\n",
    "api = tradeapi.REST(key_id=ALPACA_API_KEY, secret_key=ALPACA_SECRET_KEY, \n",
    "                    base_url=BASE_URL, api_version='v2')"
   ]
  },
  {
   "cell_type": "code",
   "execution_count": null,
   "metadata": {},
   "outputs": [],
   "source": []
  }
 ],
 "metadata": {
  "kernelspec": {
   "display_name": "Python 3",
   "language": "python",
   "name": "python3"
  },
  "language_info": {
   "codemirror_mode": {
    "name": "ipython",
    "version": 3
   },
   "file_extension": ".py",
   "mimetype": "text/x-python",
   "name": "python",
   "nbconvert_exporter": "python",
   "pygments_lexer": "ipython3",
   "version": "3.8.5"
  }
 },
 "nbformat": 4,
 "nbformat_minor": 4
}
